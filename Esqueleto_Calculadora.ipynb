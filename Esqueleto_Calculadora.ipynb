{
  "cells": [
    {
      "cell_type": "code",
      "execution_count": null,
      "metadata": {
        "colab": {
          "base_uri": "https://localhost:8080/"
        },
        "id": "4pDPo7a3aEv0",
        "outputId": "949003fb-f3b2-4378-87b5-47fd05ff1d9b"
      },
      "outputs": [
        {
          "output_type": "stream",
          "name": "stdout",
          "text": [
            "¡Bienvenidos a la calculadora de dos números del equipo 1!\n",
            "¿Qué operación realizarás el día de hoy?\n",
            "1.- Suma\n",
            "2.- Resta\n",
            "3.- Multiplicación\n",
            "4.- División\n",
            "5.- Salir\n",
            "Elige una opción: 4\n",
            "¡Perfecto! Ahora dime los dos números\n",
            "Dame el primer número: 6\n",
            "Dame el segundo número: 2\n",
            "El resultado de la división es: 3.0\n",
            "¿Deseas realizar otra operación? (s/n): s\n",
            "¿Qué operación realizarás el día de hoy?\n",
            "1.- Suma\n",
            "2.- Resta\n",
            "3.- Multiplicación\n",
            "4.- División\n",
            "5.- Salir\n",
            "Elige una opción: 4\n",
            "¡Perfecto! Ahora dime los dos números\n",
            "Dame el primer número: 4\n",
            "Dame el segundo número: 0\n",
            "El resultado de la división es: Error: No se puede dividir entre 0.\n"
          ]
        }
      ],
      "source": [
        "def calculadora():\n",
        "    print(\"¿Qué operación realizarás el día de hoy?\")\n",
        "    print(\"1.- Suma\")\n",
        "    print(\"2.- Resta\")\n",
        "    print(\"3.- Multiplicación\")\n",
        "    print(\"4.- División\")\n",
        "    print(\"5.- Salir\")\n",
        "\n",
        "    operacion = input(\"Elige una opción: \")\n",
        "\n",
        "    if operacion == '5':\n",
        "        print(\"¡Gracias por usar la calculadora!\")\n",
        "        return\n",
        "\n",
        "    print(\"¡Perfecto! Ahora dime los dos números\")\n",
        "    x = float(input(\"Dame el primer número: \"))\n",
        "    y = float(input(\"Dame el segundo número: \"))\n",
        "\n",
        "    if operacion == '1':\n",
        "        res = x + y\n",
        "        print(f\"El resultado de la suma es: {res}\")\n",
        "    elif operacion == '2':\n",
        "        res = x - y\n",
        "        print(f\"El resultado de la resta es: {res}\")\n",
        "    elif operacion == '3':\n",
        "        res = x * y\n",
        "        print(f\"El resultado de la multiplicación es: {res}\")\n",
        "    elif operacion == '4':\n",
        "        def division(x, y):\n",
        "            if y == 0:\n",
        "                return \"Error: No se puede dividir entre 0.\"\n",
        "            return x / y\n",
        "\n",
        "        resultado = division(x, y)\n",
        "        print(\"El resultado de la división es:\", resultado)\n",
        "    else:\n",
        "        print(\"Opción no válida. Por favor, selecciona una opción entre 1 y 5.\")\n",
        "\n",
        "print(\"¡Bienvenidos a la calculadora de dos números del equipo 1!\")\n",
        "while True:\n",
        "    calculadora()\n",
        "    salir = input(\"¿Deseas realizar otra operación? (s/n): \")\n",
        "    if salir.lower() != 's':\n",
        "        break\n",
        "\n",
        "print(\"¡Hasta luego!\")\n",
        "\n",
        "\n"
      ]
    },
    {
      "cell_type": "code",
      "execution_count": null,
      "metadata": {
        "id": "bKYOy6l1aEv3"
      },
      "outputs": [],
      "source": []
    }
  ],
  "metadata": {
    "language_info": {
      "name": "python"
    },
    "colab": {
      "provenance": []
    },
    "kernelspec": {
      "name": "python3",
      "display_name": "Python 3"
    }
  },
  "nbformat": 4,
  "nbformat_minor": 0
}